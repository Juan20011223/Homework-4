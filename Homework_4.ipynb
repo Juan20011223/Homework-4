{
  "nbformat": 4,
  "nbformat_minor": 0,
  "metadata": {
    "colab": {
      "provenance": []
    },
    "kernelspec": {
      "name": "python3",
      "display_name": "Python 3"
    },
    "language_info": {
      "name": "python"
    }
  },
  "cells": [
    {
      "cell_type": "markdown",
      "source": [],
      "metadata": {
        "id": "-km-7WOcZTPN"
      }
    },
    {
      "cell_type": "code",
      "source": [],
      "metadata": {
        "id": "3Y4Md2XaZS-e"
      },
      "execution_count": null,
      "outputs": []
    },
    {
      "cell_type": "markdown",
      "source": [
        "HOMEWORK#4\n",
        "\n",
        "**1.Cite the articles of the constitution and COIP that address the topic of information security and information privacy**\n",
        "\n",
        "**Article 156:** Electronic communication records such as emails, text messages, or chat logs can be considered documentary evidence in criminal proceedings. Investigators may obtain these records through legal means, such as subpoenas or search warrants, and present them as evidence of communication relevant to the case.\n",
        "\n",
        "**Article 178:** Violation of privacy.- The person who, without having consent or legal authorization, accesses, intercepts, examines, retains, records, reproduces, disseminates or publishes personal data, data messages, voice, audio and video, objects postcards, information contained in computer media, private or reserved communications from another person by any means, will be punished with a custodial sentence of one to three years.\n",
        "These rules are not applicable to the person who discloses audio and video recordings in which he personally intervenes, nor when it is public information in accordance with the provisions of the law.\n",
        "\n",
        "**Article 179:**Revelation of\n",
        "secret.- The person who having\n",
        "knowledge due to their status\n",
        "or trade, employment, profession or art,\n",
        "of a secret whose disclosure\n",
        "could cause harm to another person and\n",
        "reveals it, she will be punished\n",
        "deprivation of liberty from six months to\n",
        "one year.\n",
        "\n",
        "**Article 229:** The person who, for his or her own benefit or that of a third party, reveals registered information, contained in files, archives, databases or similar means, through or directed to an electronic, computer, telematic or telecommunications system; voluntarily and intentionally materializing the violation of the secrecy, intimacy and privacy of people, will be punished with a custodial sentence of one to three years.\n",
        "If this conduct is committed by a public servant, internal bank employees or institutions of the popular and solidarity economy that carry out financial intermediation or contractors, it will be punished with imprisonment of three to five years.\n",
        "\n",
        "\n",
        "**Article 230:** Illegal interception\n",
        "of data.- It will be sanctioned with a penalty\n",
        "deprivation of liberty from three to five\n",
        "years:\n",
        "The person who without a court order\n",
        "prior, for one's own benefit or that of a\n",
        "third, intercept, listen, divert,\n",
        "record or observe, in any\n",
        "forms a computer data in its\n",
        "origin, destination or within a\n",
        "computer system, a signal or a\n",
        "transmission of data or signals with\n",
        "the purpose of obtaining information\n",
        "registered or available."
      ],
      "metadata": {
        "id": "YCuWekgsZSMy"
      }
    },
    {
      "cell_type": "markdown",
      "source": [
        "**2.Describe and summarize such articles, and provide their scope**\n",
        "\n",
        "**Article 156:** This article allows electronic communication records, like emails and text messages, to be used as evidence in criminal proceedings, obtained through legal means such as subpoenas or search warrants.\n",
        "\n",
        "\n",
        "**Article 178:** Article 178 penalizes unauthorized access, interception, or dissemination of personal data or private communications, safeguarding individuals' privacy rights against unlawful intrusion.\n",
        "\n",
        "\n",
        "**Article 179:** Article 179 imposes penalties for disclosing confidential information that could harm others, targeting individuals who reveal secrets they possess due to their position or profession.\n",
        "\n",
        "\n",
        "**Article 229:** Article 229 penalizes the unauthorized disclosure of registered electronic information, protecting individuals' privacy by prohibiting the intentional disclosure of such data for personal or third-party benefit.\n",
        "\n",
        "\n",
        "**Article 230:** Article 230 imposes penalties for the unauthorized interception or surveillance of computer data or transmissions without prior court authorization, aiming to preserve the integrity and confidentiality of electronic communications and data systems."
      ],
      "metadata": {
        "id": "0JxJ7RHPcp8Q"
      }
    },
    {
      "cell_type": "markdown",
      "source": [
        "**3.What kind of crimes or infractions can a person be judged for using those articles?**\n",
        "\n",
        "\n",
        "\n",
        "**Interception of Computer Data and Espionage:** Article 179 of the COIP talks about revealing secrets of jobs or status that could harm people would be penalized. Poeple could easily intercept information or change information revealing or messing up peoples jobs or status.Article 230 also comes into mind when talking about intercepting, listening or even observing any form of computer data will be a crime.\n",
        "\n",
        "\n",
        "\n",
        "**Revealing Information without consent:**\n",
        "As article 229 states revealing information without consent is a serious crime, revealing personal information such as bank accounts or database.\n",
        "\n"
      ],
      "metadata": {
        "id": "SNvtuSd-eEvZ"
      }
    },
    {
      "cell_type": "markdown",
      "source": [
        "**4.What kind of evidence could the persecutors use to incriminate someone with this kind of crime?**\n",
        "\n",
        "**Company Policies:** Evey company has its privacy policies and if they were breached by someone in the company then you can totally use this policies to your favor in order to state your case.\n",
        "\n",
        "**Data Investigations:** Article 156 states that you can legally have investigators search for messages, mails any kind of data to actually find evidence that can go in your favor."
      ],
      "metadata": {
        "id": "uX9qjYcVil5e"
      }
    },
    {
      "cell_type": "markdown",
      "source": [
        "**5.Provide a summary of the Ola Bini's case, and present the main arguments and crimes he was accused of.**\n",
        "\n",
        "\n",
        "Ola Bini was arrested for being vinculated to Julian Assange.Ola Bini was accused of being involved in a cyberattack that compromised Ecuadorian infrastructure this with the objective to destabilize the country.What he said was that he was falsely acused just because he worked on cybersecurity.It is important to address that his arrest came shortly after Julian Assanges arrest with everything about Wikileaks."
      ],
      "metadata": {
        "id": "7SkfMhmBkIrE"
      }
    },
    {
      "cell_type": "markdown",
      "source": [
        "**6.What is your opinion of the case in general and its outcome?**\n",
        "\n",
        "Theres always going to be the main question \"Was it a fair accusation?\". Nobody know until this day but what I can take out of this case is that it surelly brings fear to our privacy and information.From what I have researched the information that was used to acuse him wasnt strong enough and wasnt credible enough bringing some kind of uncertainty to the case. But in conclusion it doesnt matter if he is guilty or not its definetely something to fear in the future.Technology is advancing at a big rate and us being a third world country can be vulnerable to this kind of attacks so its better to be cautious of to who you are giving your information."
      ],
      "metadata": {
        "id": "Gug51e-bomHL"
      }
    },
    {
      "cell_type": "markdown",
      "source": [
        "**7.How do the terms of services of applications like Whatsapp and TikTok align with the privacy laws in Ecuador? What kind of protections Ecuadorian citizens are guaranteed under the law?**\n",
        "\n",
        "Well there are some articles like article 66 of the constitution that grants you this privacy of data meaning you can control who collects your info and where it goes kind of because this aplications have their own policies.I suppose the policies of tik tok and whatsapp do align with the ecuadorian law. They must align because they explain how they collect and use the information or each user.Tik Tok and Whatsapp give full transparency on how they collect information.They also have information on how much time do they retain the info.\n",
        "\n",
        "In conclusion I would say they align to the ecuadorian laws but again I dont understand why the US wants to ban TikTok if tiktok is doing every policy right and fully transparent. Again this makes me doubt of our laws as a third worl country."
      ],
      "metadata": {
        "id": "rYOHLbZkppdz"
      }
    }
  ]
}